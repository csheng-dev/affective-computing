{
 "cells": [
  {
   "cell_type": "code",
   "execution_count": 24,
   "id": "10c74c63-f021-40ac-9273-833f42881073",
   "metadata": {},
   "outputs": [],
   "source": [
    "import os\n",
    "import pandas as pd"
   ]
  },
  {
   "cell_type": "code",
   "execution_count": 33,
   "id": "8df26f8d-d9ea-4756-bfb9-9bf296ffadf3",
   "metadata": {},
   "outputs": [
    {
     "name": "stdout",
     "output_type": "stream",
     "text": [
      "S1\n",
      "S10\n",
      "S2\n",
      "S3\n",
      "S4\n",
      "S5\n",
      "S6\n",
      "S7\n",
      "S8\n",
      "S9\n"
     ]
    }
   ],
   "source": [
    "# Set the path to the target directory\n",
    "base_path = \"C:/Users/Ally/Desktop/sheng/data/3/Data\"\n",
    "\n",
    "# Get a list of all subdirectories in \"1\"\n",
    "subject_dirs = [name for name in os.listdir(base_path) if os.path.isdir(os.path.join(base_path, name))]\n",
    "\n",
    "# Print each subdirectory name\n",
    "for subdir in subject_dirs:\n",
    "    print(subdir)\n",
    "    \n",
    "chunks_all = []\n"
   ]
  },
  {
   "cell_type": "code",
   "execution_count": 34,
   "id": "8458c29a-4d5c-4ffa-b7db-e8d2a8aa4efa",
   "metadata": {},
   "outputs": [
    {
     "name": "stdout",
     "output_type": "stream",
     "text": [
      "C:/Users/Ally/Desktop/sheng/data/3/Data\\S1\\Final\\BVP.csv\n",
      "C:/Users/Ally/Desktop/sheng/data/3/Data\\S1\\Final\\EDA.csv\n",
      "C:/Users/Ally/Desktop/sheng/data/3/Data\\S1\\Final\\TEMP.csv\n",
      "C:/Users/Ally/Desktop/sheng/data/3/Data\\S1\\Midterm 1\\BVP.csv\n",
      "C:/Users/Ally/Desktop/sheng/data/3/Data\\S1\\Midterm 1\\EDA.csv\n",
      "C:/Users/Ally/Desktop/sheng/data/3/Data\\S1\\Midterm 1\\TEMP.csv\n",
      "C:/Users/Ally/Desktop/sheng/data/3/Data\\S1\\Midterm 2\\BVP.csv\n",
      "C:/Users/Ally/Desktop/sheng/data/3/Data\\S1\\Midterm 2\\EDA.csv\n",
      "C:/Users/Ally/Desktop/sheng/data/3/Data\\S1\\Midterm 2\\TEMP.csv\n",
      "C:/Users/Ally/Desktop/sheng/data/3/Data\\S10\\Final\\BVP.csv\n",
      "C:/Users/Ally/Desktop/sheng/data/3/Data\\S10\\Final\\EDA.csv\n",
      "C:/Users/Ally/Desktop/sheng/data/3/Data\\S10\\Final\\TEMP.csv\n",
      "C:/Users/Ally/Desktop/sheng/data/3/Data\\S10\\Midterm 1\\BVP.csv\n",
      "C:/Users/Ally/Desktop/sheng/data/3/Data\\S10\\Midterm 1\\EDA.csv\n",
      "C:/Users/Ally/Desktop/sheng/data/3/Data\\S10\\Midterm 1\\TEMP.csv\n",
      "C:/Users/Ally/Desktop/sheng/data/3/Data\\S10\\Midterm 2\\BVP.csv\n",
      "C:/Users/Ally/Desktop/sheng/data/3/Data\\S10\\Midterm 2\\EDA.csv\n",
      "C:/Users/Ally/Desktop/sheng/data/3/Data\\S10\\Midterm 2\\TEMP.csv\n",
      "C:/Users/Ally/Desktop/sheng/data/3/Data\\S2\\Final\\BVP.csv\n",
      "C:/Users/Ally/Desktop/sheng/data/3/Data\\S2\\Final\\EDA.csv\n",
      "C:/Users/Ally/Desktop/sheng/data/3/Data\\S2\\Final\\TEMP.csv\n",
      "C:/Users/Ally/Desktop/sheng/data/3/Data\\S2\\Midterm 1\\BVP.csv\n",
      "C:/Users/Ally/Desktop/sheng/data/3/Data\\S2\\Midterm 1\\EDA.csv\n",
      "C:/Users/Ally/Desktop/sheng/data/3/Data\\S2\\Midterm 1\\TEMP.csv\n",
      "C:/Users/Ally/Desktop/sheng/data/3/Data\\S2\\Midterm 2\\BVP.csv\n",
      "C:/Users/Ally/Desktop/sheng/data/3/Data\\S2\\Midterm 2\\EDA.csv\n",
      "C:/Users/Ally/Desktop/sheng/data/3/Data\\S2\\Midterm 2\\TEMP.csv\n",
      "C:/Users/Ally/Desktop/sheng/data/3/Data\\S3\\Final\\BVP.csv\n",
      "C:/Users/Ally/Desktop/sheng/data/3/Data\\S3\\Final\\EDA.csv\n",
      "C:/Users/Ally/Desktop/sheng/data/3/Data\\S3\\Final\\TEMP.csv\n",
      "C:/Users/Ally/Desktop/sheng/data/3/Data\\S3\\Midterm 1\\BVP.csv\n",
      "C:/Users/Ally/Desktop/sheng/data/3/Data\\S3\\Midterm 1\\EDA.csv\n",
      "C:/Users/Ally/Desktop/sheng/data/3/Data\\S3\\Midterm 1\\TEMP.csv\n",
      "C:/Users/Ally/Desktop/sheng/data/3/Data\\S3\\Midterm 2\\BVP.csv\n",
      "C:/Users/Ally/Desktop/sheng/data/3/Data\\S3\\Midterm 2\\EDA.csv\n",
      "C:/Users/Ally/Desktop/sheng/data/3/Data\\S3\\Midterm 2\\TEMP.csv\n",
      "C:/Users/Ally/Desktop/sheng/data/3/Data\\S4\\Final\\BVP.csv\n",
      "C:/Users/Ally/Desktop/sheng/data/3/Data\\S4\\Final\\EDA.csv\n",
      "C:/Users/Ally/Desktop/sheng/data/3/Data\\S4\\Final\\TEMP.csv\n",
      "C:/Users/Ally/Desktop/sheng/data/3/Data\\S4\\Midterm 1\\BVP.csv\n",
      "C:/Users/Ally/Desktop/sheng/data/3/Data\\S4\\Midterm 1\\EDA.csv\n",
      "C:/Users/Ally/Desktop/sheng/data/3/Data\\S4\\Midterm 1\\TEMP.csv\n",
      "C:/Users/Ally/Desktop/sheng/data/3/Data\\S4\\Midterm 2\\BVP.csv\n",
      "C:/Users/Ally/Desktop/sheng/data/3/Data\\S4\\Midterm 2\\EDA.csv\n",
      "C:/Users/Ally/Desktop/sheng/data/3/Data\\S4\\Midterm 2\\TEMP.csv\n",
      "C:/Users/Ally/Desktop/sheng/data/3/Data\\S5\\Final\\BVP.csv\n",
      "C:/Users/Ally/Desktop/sheng/data/3/Data\\S5\\Final\\EDA.csv\n",
      "C:/Users/Ally/Desktop/sheng/data/3/Data\\S5\\Final\\TEMP.csv\n",
      "C:/Users/Ally/Desktop/sheng/data/3/Data\\S5\\Midterm 1\\BVP.csv\n",
      "C:/Users/Ally/Desktop/sheng/data/3/Data\\S5\\Midterm 1\\EDA.csv\n",
      "C:/Users/Ally/Desktop/sheng/data/3/Data\\S5\\Midterm 1\\TEMP.csv\n",
      "C:/Users/Ally/Desktop/sheng/data/3/Data\\S5\\Midterm 2\\BVP.csv\n",
      "C:/Users/Ally/Desktop/sheng/data/3/Data\\S5\\Midterm 2\\EDA.csv\n",
      "C:/Users/Ally/Desktop/sheng/data/3/Data\\S5\\Midterm 2\\TEMP.csv\n",
      "C:/Users/Ally/Desktop/sheng/data/3/Data\\S6\\Final\\BVP.csv\n",
      "C:/Users/Ally/Desktop/sheng/data/3/Data\\S6\\Final\\EDA.csv\n",
      "C:/Users/Ally/Desktop/sheng/data/3/Data\\S6\\Final\\TEMP.csv\n",
      "C:/Users/Ally/Desktop/sheng/data/3/Data\\S6\\Midterm 1\\BVP.csv\n",
      "C:/Users/Ally/Desktop/sheng/data/3/Data\\S6\\Midterm 1\\EDA.csv\n",
      "C:/Users/Ally/Desktop/sheng/data/3/Data\\S6\\Midterm 1\\TEMP.csv\n",
      "C:/Users/Ally/Desktop/sheng/data/3/Data\\S6\\Midterm 2\\BVP.csv\n",
      "C:/Users/Ally/Desktop/sheng/data/3/Data\\S6\\Midterm 2\\EDA.csv\n",
      "C:/Users/Ally/Desktop/sheng/data/3/Data\\S6\\Midterm 2\\TEMP.csv\n",
      "C:/Users/Ally/Desktop/sheng/data/3/Data\\S7\\Final\\BVP.csv\n",
      "C:/Users/Ally/Desktop/sheng/data/3/Data\\S7\\Final\\EDA.csv\n",
      "C:/Users/Ally/Desktop/sheng/data/3/Data\\S7\\Final\\TEMP.csv\n",
      "C:/Users/Ally/Desktop/sheng/data/3/Data\\S7\\Midterm 1\\BVP.csv\n",
      "C:/Users/Ally/Desktop/sheng/data/3/Data\\S7\\Midterm 1\\EDA.csv\n",
      "C:/Users/Ally/Desktop/sheng/data/3/Data\\S7\\Midterm 1\\TEMP.csv\n",
      "C:/Users/Ally/Desktop/sheng/data/3/Data\\S7\\Midterm 2\\BVP.csv\n",
      "C:/Users/Ally/Desktop/sheng/data/3/Data\\S7\\Midterm 2\\EDA.csv\n",
      "C:/Users/Ally/Desktop/sheng/data/3/Data\\S7\\Midterm 2\\TEMP.csv\n",
      "C:/Users/Ally/Desktop/sheng/data/3/Data\\S8\\Final\\BVP.csv\n",
      "C:/Users/Ally/Desktop/sheng/data/3/Data\\S8\\Final\\EDA.csv\n",
      "C:/Users/Ally/Desktop/sheng/data/3/Data\\S8\\Final\\TEMP.csv\n",
      "C:/Users/Ally/Desktop/sheng/data/3/Data\\S8\\Midterm 1\\BVP.csv\n",
      "C:/Users/Ally/Desktop/sheng/data/3/Data\\S8\\Midterm 1\\EDA.csv\n",
      "C:/Users/Ally/Desktop/sheng/data/3/Data\\S8\\Midterm 1\\TEMP.csv\n",
      "C:/Users/Ally/Desktop/sheng/data/3/Data\\S8\\Midterm 2\\BVP.csv\n",
      "C:/Users/Ally/Desktop/sheng/data/3/Data\\S8\\Midterm 2\\EDA.csv\n",
      "C:/Users/Ally/Desktop/sheng/data/3/Data\\S8\\Midterm 2\\TEMP.csv\n",
      "C:/Users/Ally/Desktop/sheng/data/3/Data\\S9\\Final\\BVP.csv\n",
      "C:/Users/Ally/Desktop/sheng/data/3/Data\\S9\\Final\\EDA.csv\n",
      "C:/Users/Ally/Desktop/sheng/data/3/Data\\S9\\Final\\TEMP.csv\n",
      "C:/Users/Ally/Desktop/sheng/data/3/Data\\S9\\Midterm 1\\BVP.csv\n",
      "C:/Users/Ally/Desktop/sheng/data/3/Data\\S9\\Midterm 1\\EDA.csv\n",
      "C:/Users/Ally/Desktop/sheng/data/3/Data\\S9\\Midterm 1\\TEMP.csv\n",
      "C:/Users/Ally/Desktop/sheng/data/3/Data\\S9\\Midterm 2\\BVP.csv\n",
      "C:/Users/Ally/Desktop/sheng/data/3/Data\\S9\\Midterm 2\\EDA.csv\n",
      "C:/Users/Ally/Desktop/sheng/data/3/Data\\S9\\Midterm 2\\TEMP.csv\n"
     ]
    }
   ],
   "source": [
    "for j in range(len(subject_dirs)):\n",
    "    subject_dirs[j]\n",
    "    \n",
    "    term_dirs = os.listdir(os.path.join(base_path, subject_dirs[j]))\n",
    "    for k in range(len(term_dirs)):\n",
    "\n",
    "        BVP_path = os.path.join(base_path, subject_dirs[j], term_dirs[k], \"BVP.csv\")\n",
    "        EDA_path = os.path.join(base_path, subject_dirs[j], term_dirs[k], \"EDA.csv\")\n",
    "        TEMP_path = os.path.join(base_path, subject_dirs[j], term_dirs[k], \"TEMP.csv\")\n",
    "\n",
    "        # Read the CSV file\n",
    "        df_BVP = pd.read_csv(BVP_path, header=None)\n",
    "        df_EDA = pd.read_csv(EDA_path, header=None)\n",
    "        df_TEMP = pd.read_csv(TEMP_path, header=None)\n",
    "\n",
    "        '''\n",
    "        if df_BVP.iloc[0,0] == df_EDA.iloc[0,0] and df_BVP.iloc[0,0] == df_TEMP.iloc[0,0]:\n",
    "            print(1)\n",
    "        else:\n",
    "            print(0)\n",
    "        '''\n",
    "        \n",
    "        df_BVP = df_BVP.iloc[2:].reset_index(drop=True)\n",
    "        df_EDA = df_EDA.iloc[2:].reset_index(drop=True)\n",
    "        df_TEMP = df_TEMP.iloc[2:].reset_index(drop=True)\n",
    "\n",
    "        # downsample BVP to 32 hz\n",
    "        df_BVP = df_BVP.iloc[::2].reset_index(drop=True)\n",
    "        df_EDA = df_EDA.loc[df_EDA.index.repeat(8)].reset_index(drop=True)\n",
    "        df_TEMP = df_TEMP.loc[df_TEMP.index.repeat(8)].reset_index(drop=True)\n",
    "\n",
    "        # combine all three df into one data frame\n",
    "        # Step 1: Find the minimum number of rows\n",
    "        min_rows = min(len(df_BVP), len(df_EDA), len(df_TEMP))\n",
    "\n",
    "        # Step 2: Cut each dataframe to the minimum number of rows\n",
    "        df_BVP_cut = df_BVP.iloc[:min_rows].reset_index(drop=True)\n",
    "        df_EDA_cut = df_EDA.iloc[:min_rows].reset_index(drop=True)\n",
    "        df_TEMP_cut = df_TEMP.iloc[:min_rows].reset_index(drop=True)\n",
    "\n",
    "        # Step 3: combine columns\n",
    "        df= pd.concat([df_BVP_cut, df_EDA_cut, df_TEMP_cut], axis=1)\n",
    "    \n",
    "        # assign column names\n",
    "        df.columns = ['BVP', 'EDA', 'TEMP']\n",
    "\n",
    "        # set index as a column named \"time\"\n",
    "        df = df.reset_index().rename(columns={'index': 'time'})\n",
    "        df['subject'] = subject_dirs[j]\n",
    "\n",
    "        # chunk df into chunks of 4 seconds with 1 second overlap\n",
    "        # Parameters\n",
    "        fs = 32              # Sampling frequency (Hz)\n",
    "        chunk_duration = 4   # seconds\n",
    "        overlap_duration = 1 # seconds\n",
    "\n",
    "        chunk_size = chunk_duration * fs\n",
    "        overlap_size = overlap_duration * fs\n",
    "        step_size = chunk_size - overlap_size  # How many rows to move forward for each new chunk\n",
    "\n",
    "        # Store all chunks\n",
    "        chunks = []\n",
    "\n",
    "        # Go through the DataFrame\n",
    "        for start in range(0, len(df) - chunk_size + 1, step_size):\n",
    "            chunk = df.iloc[start : start + chunk_size].reset_index(drop=True)\n",
    "            chunks.append(chunk)\n",
    "\n",
    "        # Now `chunks` is a list of DataFrames, each 128 rows, overlapping by 32 rows\n",
    "\n",
    "        chunks_all.append(chunks)\n",
    "\n"
   ]
  },
  {
   "cell_type": "code",
   "execution_count": 35,
   "id": "c66e0947-041e-49fa-84ef-5efca74758d8",
   "metadata": {},
   "outputs": [
    {
     "data": {
      "text/plain": [
       "30"
      ]
     },
     "execution_count": 35,
     "metadata": {},
     "output_type": "execute_result"
    }
   ],
   "source": [
    "len(chunks_all)"
   ]
  },
  {
   "cell_type": "code",
   "execution_count": 54,
   "id": "d76f2168-9b0d-40eb-948b-3689860f4f75",
   "metadata": {},
   "outputs": [
    {
     "name": "stdout",
     "output_type": "stream",
     "text": [
      "(998144, 6)\n",
      "(476800, 6)\n",
      "(475008, 6)\n",
      "(984320, 6)\n",
      "(498560, 6)\n",
      "(554240, 6)\n",
      "(1080960, 6)\n",
      "(511232, 6)\n",
      "(592256, 6)\n",
      "(1101568, 6)\n",
      "(520960, 6)\n",
      "(436992, 6)\n",
      "(678656, 6)\n",
      "(498816, 6)\n",
      "(571264, 6)\n",
      "(650240, 6)\n",
      "(511872, 6)\n",
      "(512640, 6)\n",
      "(1020288, 6)\n",
      "(475776, 6)\n",
      "(605312, 6)\n",
      "(838272, 6)\n",
      "(528256, 6)\n"
     ]
    },
    {
     "ename": "KeyboardInterrupt",
     "evalue": "",
     "output_type": "error",
     "traceback": [
      "\u001b[1;31m---------------------------------------------------------------------------\u001b[0m",
      "\u001b[1;31mKeyboardInterrupt\u001b[0m                         Traceback (most recent call last)",
      "Cell \u001b[1;32mIn[54], line 3\u001b[0m\n\u001b[0;32m      1\u001b[0m \u001b[38;5;28;01mfor\u001b[39;00m i, chunk \u001b[38;5;129;01min\u001b[39;00m \u001b[38;5;28menumerate\u001b[39m(chunks_all):\n\u001b[0;32m      2\u001b[0m     pd\u001b[38;5;241m.\u001b[39mconcat(chunk, axis \u001b[38;5;241m=\u001b[39m \u001b[38;5;241m0\u001b[39m)\u001b[38;5;241m.\u001b[39mreset_index(drop \u001b[38;5;241m=\u001b[39m \u001b[38;5;28;01mFalse\u001b[39;00m)\u001b[38;5;241m.\u001b[39mto_csv(\u001b[38;5;124mf\u001b[39m\u001b[38;5;124m'\u001b[39m\u001b[38;5;124mchunk_\u001b[39m\u001b[38;5;132;01m{\u001b[39;00mi\u001b[38;5;132;01m}\u001b[39;00m\u001b[38;5;124m.csv\u001b[39m\u001b[38;5;124m'\u001b[39m, index \u001b[38;5;241m=\u001b[39m \u001b[38;5;28;01mFalse\u001b[39;00m)\n\u001b[1;32m----> 3\u001b[0m     \u001b[38;5;28mprint\u001b[39m(\u001b[43mpd\u001b[49m\u001b[38;5;241;43m.\u001b[39;49m\u001b[43mconcat\u001b[49m\u001b[43m(\u001b[49m\u001b[43mchunk\u001b[49m\u001b[43m,\u001b[49m\u001b[43m \u001b[49m\u001b[43maxis\u001b[49m\u001b[43m \u001b[49m\u001b[38;5;241;43m=\u001b[39;49m\u001b[43m \u001b[49m\u001b[38;5;241;43m0\u001b[39;49m\u001b[43m)\u001b[49m\u001b[38;5;241m.\u001b[39mreset_index(drop \u001b[38;5;241m=\u001b[39m \u001b[38;5;28;01mFalse\u001b[39;00m)\u001b[38;5;241m.\u001b[39mshape)\n",
      "File \u001b[1;32mC:\\ProgramData\\Anaconda3\\lib\\site-packages\\pandas\\util\\_decorators.py:331\u001b[0m, in \u001b[0;36mdeprecate_nonkeyword_arguments.<locals>.decorate.<locals>.wrapper\u001b[1;34m(*args, **kwargs)\u001b[0m\n\u001b[0;32m    325\u001b[0m \u001b[38;5;28;01mif\u001b[39;00m \u001b[38;5;28mlen\u001b[39m(args) \u001b[38;5;241m>\u001b[39m num_allow_args:\n\u001b[0;32m    326\u001b[0m     warnings\u001b[38;5;241m.\u001b[39mwarn(\n\u001b[0;32m    327\u001b[0m         msg\u001b[38;5;241m.\u001b[39mformat(arguments\u001b[38;5;241m=\u001b[39m_format_argument_list(allow_args)),\n\u001b[0;32m    328\u001b[0m         \u001b[38;5;167;01mFutureWarning\u001b[39;00m,\n\u001b[0;32m    329\u001b[0m         stacklevel\u001b[38;5;241m=\u001b[39mfind_stack_level(),\n\u001b[0;32m    330\u001b[0m     )\n\u001b[1;32m--> 331\u001b[0m \u001b[38;5;28;01mreturn\u001b[39;00m func(\u001b[38;5;241m*\u001b[39margs, \u001b[38;5;241m*\u001b[39m\u001b[38;5;241m*\u001b[39mkwargs)\n",
      "File \u001b[1;32mC:\\ProgramData\\Anaconda3\\lib\\site-packages\\pandas\\core\\reshape\\concat.py:368\u001b[0m, in \u001b[0;36mconcat\u001b[1;34m(objs, axis, join, ignore_index, keys, levels, names, verify_integrity, sort, copy)\u001b[0m\n\u001b[0;32m    146\u001b[0m \u001b[38;5;129m@deprecate_nonkeyword_arguments\u001b[39m(version\u001b[38;5;241m=\u001b[39m\u001b[38;5;28;01mNone\u001b[39;00m, allowed_args\u001b[38;5;241m=\u001b[39m[\u001b[38;5;124m\"\u001b[39m\u001b[38;5;124mobjs\u001b[39m\u001b[38;5;124m\"\u001b[39m])\n\u001b[0;32m    147\u001b[0m \u001b[38;5;28;01mdef\u001b[39;00m \u001b[38;5;21mconcat\u001b[39m(\n\u001b[0;32m    148\u001b[0m     objs: Iterable[NDFrame] \u001b[38;5;241m|\u001b[39m Mapping[HashableT, NDFrame],\n\u001b[1;32m   (...)\u001b[0m\n\u001b[0;32m    157\u001b[0m     copy: \u001b[38;5;28mbool\u001b[39m \u001b[38;5;241m=\u001b[39m \u001b[38;5;28;01mTrue\u001b[39;00m,\n\u001b[0;32m    158\u001b[0m ) \u001b[38;5;241m-\u001b[39m\u001b[38;5;241m>\u001b[39m DataFrame \u001b[38;5;241m|\u001b[39m Series:\n\u001b[0;32m    159\u001b[0m \u001b[38;5;250m    \u001b[39m\u001b[38;5;124;03m\"\"\"\u001b[39;00m\n\u001b[0;32m    160\u001b[0m \u001b[38;5;124;03m    Concatenate pandas objects along a particular axis.\u001b[39;00m\n\u001b[0;32m    161\u001b[0m \n\u001b[1;32m   (...)\u001b[0m\n\u001b[0;32m    366\u001b[0m \u001b[38;5;124;03m    1   3   4\u001b[39;00m\n\u001b[0;32m    367\u001b[0m \u001b[38;5;124;03m    \"\"\"\u001b[39;00m\n\u001b[1;32m--> 368\u001b[0m     op \u001b[38;5;241m=\u001b[39m \u001b[43m_Concatenator\u001b[49m\u001b[43m(\u001b[49m\n\u001b[0;32m    369\u001b[0m \u001b[43m        \u001b[49m\u001b[43mobjs\u001b[49m\u001b[43m,\u001b[49m\n\u001b[0;32m    370\u001b[0m \u001b[43m        \u001b[49m\u001b[43maxis\u001b[49m\u001b[38;5;241;43m=\u001b[39;49m\u001b[43maxis\u001b[49m\u001b[43m,\u001b[49m\n\u001b[0;32m    371\u001b[0m \u001b[43m        \u001b[49m\u001b[43mignore_index\u001b[49m\u001b[38;5;241;43m=\u001b[39;49m\u001b[43mignore_index\u001b[49m\u001b[43m,\u001b[49m\n\u001b[0;32m    372\u001b[0m \u001b[43m        \u001b[49m\u001b[43mjoin\u001b[49m\u001b[38;5;241;43m=\u001b[39;49m\u001b[43mjoin\u001b[49m\u001b[43m,\u001b[49m\n\u001b[0;32m    373\u001b[0m \u001b[43m        \u001b[49m\u001b[43mkeys\u001b[49m\u001b[38;5;241;43m=\u001b[39;49m\u001b[43mkeys\u001b[49m\u001b[43m,\u001b[49m\n\u001b[0;32m    374\u001b[0m \u001b[43m        \u001b[49m\u001b[43mlevels\u001b[49m\u001b[38;5;241;43m=\u001b[39;49m\u001b[43mlevels\u001b[49m\u001b[43m,\u001b[49m\n\u001b[0;32m    375\u001b[0m \u001b[43m        \u001b[49m\u001b[43mnames\u001b[49m\u001b[38;5;241;43m=\u001b[39;49m\u001b[43mnames\u001b[49m\u001b[43m,\u001b[49m\n\u001b[0;32m    376\u001b[0m \u001b[43m        \u001b[49m\u001b[43mverify_integrity\u001b[49m\u001b[38;5;241;43m=\u001b[39;49m\u001b[43mverify_integrity\u001b[49m\u001b[43m,\u001b[49m\n\u001b[0;32m    377\u001b[0m \u001b[43m        \u001b[49m\u001b[43mcopy\u001b[49m\u001b[38;5;241;43m=\u001b[39;49m\u001b[43mcopy\u001b[49m\u001b[43m,\u001b[49m\n\u001b[0;32m    378\u001b[0m \u001b[43m        \u001b[49m\u001b[43msort\u001b[49m\u001b[38;5;241;43m=\u001b[39;49m\u001b[43msort\u001b[49m\u001b[43m,\u001b[49m\n\u001b[0;32m    379\u001b[0m \u001b[43m    \u001b[49m\u001b[43m)\u001b[49m\n\u001b[0;32m    381\u001b[0m     \u001b[38;5;28;01mreturn\u001b[39;00m op\u001b[38;5;241m.\u001b[39mget_result()\n",
      "File \u001b[1;32mC:\\ProgramData\\Anaconda3\\lib\\site-packages\\pandas\\core\\reshape\\concat.py:563\u001b[0m, in \u001b[0;36m_Concatenator.__init__\u001b[1;34m(self, objs, axis, join, keys, levels, names, ignore_index, verify_integrity, copy, sort)\u001b[0m\n\u001b[0;32m    560\u001b[0m \u001b[38;5;28mself\u001b[39m\u001b[38;5;241m.\u001b[39mverify_integrity \u001b[38;5;241m=\u001b[39m verify_integrity\n\u001b[0;32m    561\u001b[0m \u001b[38;5;28mself\u001b[39m\u001b[38;5;241m.\u001b[39mcopy \u001b[38;5;241m=\u001b[39m copy\n\u001b[1;32m--> 563\u001b[0m \u001b[38;5;28mself\u001b[39m\u001b[38;5;241m.\u001b[39mnew_axes \u001b[38;5;241m=\u001b[39m \u001b[38;5;28;43mself\u001b[39;49m\u001b[38;5;241;43m.\u001b[39;49m\u001b[43m_get_new_axes\u001b[49m\u001b[43m(\u001b[49m\u001b[43m)\u001b[49m\n",
      "File \u001b[1;32mC:\\ProgramData\\Anaconda3\\lib\\site-packages\\pandas\\core\\reshape\\concat.py:633\u001b[0m, in \u001b[0;36m_Concatenator._get_new_axes\u001b[1;34m(self)\u001b[0m\n\u001b[0;32m    631\u001b[0m \u001b[38;5;28;01mdef\u001b[39;00m \u001b[38;5;21m_get_new_axes\u001b[39m(\u001b[38;5;28mself\u001b[39m) \u001b[38;5;241m-\u001b[39m\u001b[38;5;241m>\u001b[39m \u001b[38;5;28mlist\u001b[39m[Index]:\n\u001b[0;32m    632\u001b[0m     ndim \u001b[38;5;241m=\u001b[39m \u001b[38;5;28mself\u001b[39m\u001b[38;5;241m.\u001b[39m_get_result_dim()\n\u001b[1;32m--> 633\u001b[0m     \u001b[38;5;28;01mreturn\u001b[39;00m [\n\u001b[0;32m    634\u001b[0m         \u001b[38;5;28mself\u001b[39m\u001b[38;5;241m.\u001b[39m_get_concat_axis \u001b[38;5;28;01mif\u001b[39;00m i \u001b[38;5;241m==\u001b[39m \u001b[38;5;28mself\u001b[39m\u001b[38;5;241m.\u001b[39mbm_axis \u001b[38;5;28;01melse\u001b[39;00m \u001b[38;5;28mself\u001b[39m\u001b[38;5;241m.\u001b[39m_get_comb_axis(i)\n\u001b[0;32m    635\u001b[0m         \u001b[38;5;28;01mfor\u001b[39;00m i \u001b[38;5;129;01min\u001b[39;00m \u001b[38;5;28mrange\u001b[39m(ndim)\n\u001b[0;32m    636\u001b[0m     ]\n",
      "File \u001b[1;32mC:\\ProgramData\\Anaconda3\\lib\\site-packages\\pandas\\core\\reshape\\concat.py:634\u001b[0m, in \u001b[0;36m<listcomp>\u001b[1;34m(.0)\u001b[0m\n\u001b[0;32m    631\u001b[0m \u001b[38;5;28;01mdef\u001b[39;00m \u001b[38;5;21m_get_new_axes\u001b[39m(\u001b[38;5;28mself\u001b[39m) \u001b[38;5;241m-\u001b[39m\u001b[38;5;241m>\u001b[39m \u001b[38;5;28mlist\u001b[39m[Index]:\n\u001b[0;32m    632\u001b[0m     ndim \u001b[38;5;241m=\u001b[39m \u001b[38;5;28mself\u001b[39m\u001b[38;5;241m.\u001b[39m_get_result_dim()\n\u001b[0;32m    633\u001b[0m     \u001b[38;5;28;01mreturn\u001b[39;00m [\n\u001b[1;32m--> 634\u001b[0m         \u001b[38;5;28;43mself\u001b[39;49m\u001b[38;5;241;43m.\u001b[39;49m\u001b[43m_get_concat_axis\u001b[49m \u001b[38;5;28;01mif\u001b[39;00m i \u001b[38;5;241m==\u001b[39m \u001b[38;5;28mself\u001b[39m\u001b[38;5;241m.\u001b[39mbm_axis \u001b[38;5;28;01melse\u001b[39;00m \u001b[38;5;28mself\u001b[39m\u001b[38;5;241m.\u001b[39m_get_comb_axis(i)\n\u001b[0;32m    635\u001b[0m         \u001b[38;5;28;01mfor\u001b[39;00m i \u001b[38;5;129;01min\u001b[39;00m \u001b[38;5;28mrange\u001b[39m(ndim)\n\u001b[0;32m    636\u001b[0m     ]\n",
      "File \u001b[1;32mC:\\ProgramData\\Anaconda3\\lib\\site-packages\\pandas\\_libs\\properties.pyx:36\u001b[0m, in \u001b[0;36mpandas._libs.properties.CachedProperty.__get__\u001b[1;34m()\u001b[0m\n",
      "File \u001b[1;32mC:\\ProgramData\\Anaconda3\\lib\\site-packages\\pandas\\core\\reshape\\concat.py:691\u001b[0m, in \u001b[0;36m_Concatenator._get_concat_axis\u001b[1;34m(self)\u001b[0m\n\u001b[0;32m    689\u001b[0m     \u001b[38;5;28;01mif\u001b[39;00m \u001b[38;5;28mself\u001b[39m\u001b[38;5;241m.\u001b[39mlevels \u001b[38;5;129;01mis\u001b[39;00m \u001b[38;5;129;01mnot\u001b[39;00m \u001b[38;5;28;01mNone\u001b[39;00m:\n\u001b[0;32m    690\u001b[0m         \u001b[38;5;28;01mraise\u001b[39;00m \u001b[38;5;167;01mValueError\u001b[39;00m(\u001b[38;5;124m\"\u001b[39m\u001b[38;5;124mlevels supported only when keys is not None\u001b[39m\u001b[38;5;124m\"\u001b[39m)\n\u001b[1;32m--> 691\u001b[0m     concat_axis \u001b[38;5;241m=\u001b[39m \u001b[43m_concat_indexes\u001b[49m\u001b[43m(\u001b[49m\u001b[43mindexes\u001b[49m\u001b[43m)\u001b[49m\n\u001b[0;32m    692\u001b[0m \u001b[38;5;28;01melse\u001b[39;00m:\n\u001b[0;32m    693\u001b[0m     concat_axis \u001b[38;5;241m=\u001b[39m _make_concat_multiindex(\n\u001b[0;32m    694\u001b[0m         indexes, \u001b[38;5;28mself\u001b[39m\u001b[38;5;241m.\u001b[39mkeys, \u001b[38;5;28mself\u001b[39m\u001b[38;5;241m.\u001b[39mlevels, \u001b[38;5;28mself\u001b[39m\u001b[38;5;241m.\u001b[39mnames\n\u001b[0;32m    695\u001b[0m     )\n",
      "File \u001b[1;32mC:\\ProgramData\\Anaconda3\\lib\\site-packages\\pandas\\core\\reshape\\concat.py:709\u001b[0m, in \u001b[0;36m_concat_indexes\u001b[1;34m(indexes)\u001b[0m\n\u001b[0;32m    708\u001b[0m \u001b[38;5;28;01mdef\u001b[39;00m \u001b[38;5;21m_concat_indexes\u001b[39m(indexes) \u001b[38;5;241m-\u001b[39m\u001b[38;5;241m>\u001b[39m Index:\n\u001b[1;32m--> 709\u001b[0m     \u001b[38;5;28;01mreturn\u001b[39;00m \u001b[43mindexes\u001b[49m\u001b[43m[\u001b[49m\u001b[38;5;241;43m0\u001b[39;49m\u001b[43m]\u001b[49m\u001b[38;5;241;43m.\u001b[39;49m\u001b[43mappend\u001b[49m\u001b[43m(\u001b[49m\u001b[43mindexes\u001b[49m\u001b[43m[\u001b[49m\u001b[38;5;241;43m1\u001b[39;49m\u001b[43m:\u001b[49m\u001b[43m]\u001b[49m\u001b[43m)\u001b[49m\n",
      "File \u001b[1;32mC:\\ProgramData\\Anaconda3\\lib\\site-packages\\pandas\\core\\indexes\\base.py:5405\u001b[0m, in \u001b[0;36mIndex.append\u001b[1;34m(self, other)\u001b[0m\n\u001b[0;32m   5402\u001b[0m names \u001b[38;5;241m=\u001b[39m {obj\u001b[38;5;241m.\u001b[39mname \u001b[38;5;28;01mfor\u001b[39;00m obj \u001b[38;5;129;01min\u001b[39;00m to_concat}\n\u001b[0;32m   5403\u001b[0m name \u001b[38;5;241m=\u001b[39m \u001b[38;5;28;01mNone\u001b[39;00m \u001b[38;5;28;01mif\u001b[39;00m \u001b[38;5;28mlen\u001b[39m(names) \u001b[38;5;241m>\u001b[39m \u001b[38;5;241m1\u001b[39m \u001b[38;5;28;01melse\u001b[39;00m \u001b[38;5;28mself\u001b[39m\u001b[38;5;241m.\u001b[39mname\n\u001b[1;32m-> 5405\u001b[0m \u001b[38;5;28;01mreturn\u001b[39;00m \u001b[38;5;28;43mself\u001b[39;49m\u001b[38;5;241;43m.\u001b[39;49m\u001b[43m_concat\u001b[49m\u001b[43m(\u001b[49m\u001b[43mto_concat\u001b[49m\u001b[43m,\u001b[49m\u001b[43m \u001b[49m\u001b[43mname\u001b[49m\u001b[43m)\u001b[49m\n",
      "File \u001b[1;32mC:\\ProgramData\\Anaconda3\\lib\\site-packages\\pandas\\core\\indexes\\range.py:930\u001b[0m, in \u001b[0;36mRangeIndex._concat\u001b[1;34m(self, indexes, name)\u001b[0m\n\u001b[0;32m    926\u001b[0m non_consecutive \u001b[38;5;241m=\u001b[39m (step \u001b[38;5;241m!=\u001b[39m rng\u001b[38;5;241m.\u001b[39mstep \u001b[38;5;129;01mand\u001b[39;00m \u001b[38;5;28mlen\u001b[39m(rng) \u001b[38;5;241m>\u001b[39m \u001b[38;5;241m1\u001b[39m) \u001b[38;5;129;01mor\u001b[39;00m (\n\u001b[0;32m    927\u001b[0m     next_ \u001b[38;5;129;01mis\u001b[39;00m \u001b[38;5;129;01mnot\u001b[39;00m \u001b[38;5;28;01mNone\u001b[39;00m \u001b[38;5;129;01mand\u001b[39;00m rng\u001b[38;5;241m.\u001b[39mstart \u001b[38;5;241m!=\u001b[39m next_\n\u001b[0;32m    928\u001b[0m )\n\u001b[0;32m    929\u001b[0m \u001b[38;5;28;01mif\u001b[39;00m non_consecutive:\n\u001b[1;32m--> 930\u001b[0m     result \u001b[38;5;241m=\u001b[39m Int64Index(\u001b[43mnp\u001b[49m\u001b[38;5;241;43m.\u001b[39;49m\u001b[43mconcatenate\u001b[49m\u001b[43m(\u001b[49m\u001b[43m[\u001b[49m\u001b[43mx\u001b[49m\u001b[38;5;241;43m.\u001b[39;49m\u001b[43m_values\u001b[49m\u001b[43m \u001b[49m\u001b[38;5;28;43;01mfor\u001b[39;49;00m\u001b[43m \u001b[49m\u001b[43mx\u001b[49m\u001b[43m \u001b[49m\u001b[38;5;129;43;01min\u001b[39;49;00m\u001b[43m \u001b[49m\u001b[43mrng_indexes\u001b[49m\u001b[43m]\u001b[49m\u001b[43m)\u001b[49m)\n\u001b[0;32m    931\u001b[0m     \u001b[38;5;28;01mreturn\u001b[39;00m result\u001b[38;5;241m.\u001b[39mrename(name)\n\u001b[0;32m    933\u001b[0m \u001b[38;5;28;01mif\u001b[39;00m step \u001b[38;5;129;01mis\u001b[39;00m \u001b[38;5;129;01mnot\u001b[39;00m \u001b[38;5;28;01mNone\u001b[39;00m:\n",
      "File \u001b[1;32m<__array_function__ internals>:200\u001b[0m, in \u001b[0;36mconcatenate\u001b[1;34m(*args, **kwargs)\u001b[0m\n",
      "\u001b[1;31mKeyboardInterrupt\u001b[0m: "
     ]
    }
   ],
   "source": [
    "for i, chunk in enumerate(chunks_all):\n",
    "    pd.concat(chunk, axis = 0).reset_index(drop = True).to_csv(f'chunk_{i}.csv', index = False)"
   ]
  },
  {
   "cell_type": "code",
   "execution_count": 50,
   "id": "71680fe6-9471-4e5f-a4b4-674a9fb49270",
   "metadata": {},
   "outputs": [
    {
     "name": "stdout",
     "output_type": "stream",
     "text": [
      "0 998144\n",
      "1 476800\n",
      "2 475008\n",
      "3 984320\n",
      "4 498560\n",
      "5 554240\n",
      "6 1080960\n",
      "7 511232\n",
      "8 592256\n",
      "9 1101568\n",
      "10 520960\n",
      "11 436992\n",
      "12 678656\n",
      "13 498816\n",
      "14 571264\n",
      "15 650240\n",
      "16 511872\n",
      "17 512640\n",
      "18 1020288\n",
      "19 475776\n",
      "20 605312\n",
      "21 838272\n",
      "22 528256\n",
      "23 461312\n",
      "24 763520\n",
      "25 459904\n",
      "26 424832\n",
      "27 606080\n",
      "28 540928\n",
      "29 530304\n"
     ]
    }
   ],
   "source": [
    "for i, chunk in enumerate(chunks_all):\n",
    "    cnt = 0\n",
    "    for j, c in enumerate(chunk):\n",
    "        cnt = cnt + c.shape[0]\n",
    "    print(i, cnt)"
   ]
  },
  {
   "cell_type": "code",
   "execution_count": 40,
   "id": "772e43aa-2555-4390-98d3-3037b2bb8a0e",
   "metadata": {},
   "outputs": [
    {
     "data": {
      "text/plain": [
       "2794.0"
      ]
     },
     "execution_count": 40,
     "metadata": {},
     "output_type": "execute_result"
    }
   ],
   "source": [
    "357632/128"
   ]
  },
  {
   "cell_type": "code",
   "execution_count": null,
   "id": "17ec0921-c6d2-48aa-b198-6f8324938805",
   "metadata": {},
   "outputs": [],
   "source": []
  }
 ],
 "metadata": {
  "kernelspec": {
   "display_name": "Python 3 (ipykernel)",
   "language": "python",
   "name": "python3"
  },
  "language_info": {
   "codemirror_mode": {
    "name": "ipython",
    "version": 3
   },
   "file_extension": ".py",
   "mimetype": "text/x-python",
   "name": "python",
   "nbconvert_exporter": "python",
   "pygments_lexer": "ipython3",
   "version": "3.9.18"
  }
 },
 "nbformat": 4,
 "nbformat_minor": 5
}
