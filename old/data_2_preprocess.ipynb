{
 "cells": [
  {
   "cell_type": "code",
   "execution_count": 13,
   "id": "e44dabb0-ed8a-498e-af29-2205b4696d35",
   "metadata": {},
   "outputs": [],
   "source": [
    "import os\n",
    "import pandas as pd"
   ]
  },
  {
   "cell_type": "code",
   "execution_count": 14,
   "id": "406aeb98-67e2-4e6b-b6ca-1b9f0275b8ea",
   "metadata": {},
   "outputs": [],
   "source": [
    "# Set the path to the target directory\n",
    "base_path = \"C:/Users/Ally/Desktop/sheng/data/2/EmpaticaE4Stress/Subjects\""
   ]
  },
  {
   "cell_type": "code",
   "execution_count": 18,
   "id": "cbdab722-f042-4500-bf1b-e93dacac78d0",
   "metadata": {},
   "outputs": [
    {
     "name": "stdout",
     "output_type": "stream",
     "text": [
      "subject_01\n",
      "subject_02\n",
      "subject_03\n",
      "subject_04\n",
      "subject_05\n",
      "subject_06\n",
      "subject_07\n",
      "subject_08\n",
      "subject_09\n",
      "subject_10\n",
      "subject_11\n",
      "subject_12\n",
      "subject_13\n",
      "subject_14\n",
      "subject_15\n",
      "subject_16\n",
      "subject_17\n",
      "subject_18\n",
      "subject_19\n",
      "subject_20\n",
      "subject_21\n",
      "subject_22\n",
      "subject_23\n",
      "subject_24\n",
      "subject_25\n",
      "subject_26\n",
      "subject_27\n",
      "subject_28\n",
      "subject_29\n"
     ]
    }
   ],
   "source": [
    "# Get a list of all subdirectories in \"1\"\n",
    "subject_dirs = [name for name in os.listdir(base_path) if os.path.isdir(os.path.join(base_path, name))]\n",
    "\n",
    "# Print each subdirectory name\n",
    "for subdir in subject_dirs:\n",
    "    print(subdir)\n",
    "    \n",
    "chunks_all = []"
   ]
  },
  {
   "cell_type": "code",
   "execution_count": 19,
   "id": "4531c080-250c-45d7-9c2f-44faeb8a1702",
   "metadata": {},
   "outputs": [],
   "source": [
    "for j in range(len(subject_dirs)):\n",
    "    subject_dirs[j]\n",
    "    os.listdir(os.path.join(base_path, subject_dirs[j]))\n",
    "    BVP_path = os.path.join(base_path, subject_dirs[j], \"BVP.csv\")\n",
    "    EDA_path = os.path.join(base_path, subject_dirs[j], \"EDA.csv\")\n",
    "    TEMP_path = os.path.join(base_path, subject_dirs[j], \"TEMP.csv\")\n",
    "\n",
    "    # Read the CSV file\n",
    "    df_BVP = pd.read_csv(BVP_path, header=None)\n",
    "    df_EDA = pd.read_csv(EDA_path, header=None)\n",
    "    df_TEMP = pd.read_csv(TEMP_path, header=None)\n",
    "\n",
    "    df_BVP = df_BVP.iloc[2:].reset_index(drop=True)\n",
    "    df_EDA = df_EDA.iloc[2:].reset_index(drop=True)\n",
    "    df_TEMP = df_TEMP.iloc[2:].reset_index(drop=True)\n",
    "\n",
    "    # downsample BVP to 32 hz\n",
    "    df_BVP = df_BVP.iloc[::2].reset_index(drop=True)\n",
    "    df_EDA = df_EDA.loc[df_EDA.index.repeat(8)].reset_index(drop=True)\n",
    "    df_TEMP = df_TEMP.loc[df_TEMP.index.repeat(8)].reset_index(drop=True)\n",
    "\n",
    "    # combine all three df into one data frame\n",
    "    # Step 1: Find the minimum number of rows\n",
    "    min_rows = min(len(df_BVP), len(df_EDA), len(df_TEMP))\n",
    "\n",
    "    # Step 2: Cut each dataframe to the minimum number of rows\n",
    "    df_BVP_cut = df_BVP.iloc[:min_rows].reset_index(drop=True)\n",
    "    df_EDA_cut = df_EDA.iloc[:min_rows].reset_index(drop=True)\n",
    "    df_TEMP_cut = df_TEMP.iloc[:min_rows].reset_index(drop=True)\n",
    "\n",
    "    # Step 3: combine columns\n",
    "    df= pd.concat([df_BVP_cut, df_EDA_cut, df_TEMP_cut], axis=1)\n",
    "    \n",
    "    # assign column names\n",
    "    df.columns = ['BVP', 'EDA', 'TEMP']\n",
    "\n",
    "    # set index as a column named \"time\"\n",
    "    df = df.reset_index().rename(columns={'index': 'time'})\n",
    "    df['subject'] = subject_dirs[j]\n",
    "\n",
    "    # chunk df into chunks of 4 seconds with 1 second overlap\n",
    "    # Parameters\n",
    "    fs = 32              # Sampling frequency (Hz)\n",
    "    chunk_duration = 4   # seconds\n",
    "    overlap_duration = 1 # seconds\n",
    "\n",
    "    chunk_size = chunk_duration * fs\n",
    "    overlap_size = overlap_duration * fs\n",
    "    step_size = chunk_size - overlap_size  # How many rows to move forward for each new chunk\n",
    "\n",
    "    # Store all chunks\n",
    "    chunks = []\n",
    "\n",
    "    # Go through the DataFrame\n",
    "    for start in range(0, len(df) - chunk_size + 1, step_size):\n",
    "        chunk = df.iloc[start : start + chunk_size].reset_index(drop=True)\n",
    "        chunks.append(chunk)\n",
    "\n",
    "    # Now `chunks` is a list of DataFrames, each 128 rows, overlapping by 32 rows\n",
    "\n",
    "    chunks_all.append(chunks)"
   ]
  },
  {
   "cell_type": "code",
   "execution_count": 20,
   "id": "f9d379f4-1ba2-4853-b79f-da0ca475e60f",
   "metadata": {},
   "outputs": [
    {
     "name": "stderr",
     "output_type": "stream",
     "text": [
      "\n",
      "KeyboardInterrupt\n",
      "\n"
     ]
    }
   ],
   "source": [
    "chunks_all"
   ]
  },
  {
   "cell_type": "code",
   "execution_count": 33,
   "id": "0bf2b47e-186a-4c42-a905-0ab6c9d455a8",
   "metadata": {},
   "outputs": [
    {
     "data": {
      "text/plain": [
       "29"
      ]
     },
     "execution_count": 33,
     "metadata": {},
     "output_type": "execute_result"
    }
   ],
   "source": [
    "len(chunks_all)"
   ]
  },
  {
   "cell_type": "code",
   "execution_count": 32,
   "id": "7f3b5bcb-62ed-4c45-950f-b62e517b8d1a",
   "metadata": {},
   "outputs": [],
   "source": [
    "for i, chunk in enumerate(chunks_all):\n",
    "    pd.concat(chunk, axis = 0).reset_index(drop = True).to_csv(f'chunk_{i}.csv', index = False)"
   ]
  },
  {
   "cell_type": "code",
   "execution_count": null,
   "id": "f9a9f3a0-8744-4e0d-8462-9935f65d92bc",
   "metadata": {},
   "outputs": [],
   "source": []
  }
 ],
 "metadata": {
  "kernelspec": {
   "display_name": "Python 3 (ipykernel)",
   "language": "python",
   "name": "python3"
  },
  "language_info": {
   "codemirror_mode": {
    "name": "ipython",
    "version": 3
   },
   "file_extension": ".py",
   "mimetype": "text/x-python",
   "name": "python",
   "nbconvert_exporter": "python",
   "pygments_lexer": "ipython3",
   "version": "3.10.18"
  }
 },
 "nbformat": 4,
 "nbformat_minor": 5
}
