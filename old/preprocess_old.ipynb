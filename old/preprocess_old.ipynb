{
 "cells": [
  {
   "cell_type": "code",
   "execution_count": 1,
   "id": "ed589dcf-c454-41e3-8365-6ea6d4ea573e",
   "metadata": {},
   "outputs": [],
   "source": [
    "import os\n",
    "import pandas as pd"
   ]
  },
  {
   "cell_type": "markdown",
   "id": "cfff5efc-5a69-4a68-bd3c-6385d497ae2f",
   "metadata": {},
   "source": [
    "Dataset 1"
   ]
  },
  {
   "cell_type": "code",
   "execution_count": 2,
   "id": "6bfce46f-b36d-444a-8df1-864394324f2f",
   "metadata": {},
   "outputs": [
    {
     "name": "stdout",
     "output_type": "stream",
     "text": [
      "AEROBIC\n",
      "ANAEROBIC\n",
      "STRESS\n",
      "wearable-device-dataset-from-induced-stress-and-structured-exercise-sessions-1.0.0\n"
     ]
    }
   ],
   "source": [
    "# Set the path to the target directory\n",
    "base_path = \"C:/Users/Ally/Desktop/sheng/data/1\"\n",
    "\n",
    "# Get a list of all subdirectories in \"1\"\n",
    "subdirs = [name for name in os.listdir(base_path) if os.path.isdir(os.path.join(base_path, name))]\n",
    "\n",
    "# Print each subdirectory name\n",
    "for subdir in subdirs:\n",
    "    print(subdir)"
   ]
  },
  {
   "cell_type": "code",
   "execution_count": 3,
   "id": "d02a80c4-4453-4cf5-8f05-ff589f3293b4",
   "metadata": {},
   "outputs": [],
   "source": [
    "i = 0"
   ]
  },
  {
   "cell_type": "code",
   "execution_count": 4,
   "id": "8fc6b041-1ee4-4e7c-81cb-03d805e1a831",
   "metadata": {},
   "outputs": [],
   "source": [
    "dir_name = subdirs[i]\n",
    "dir_path = os.path.join(base_path, dir_name)"
   ]
  },
  {
   "cell_type": "code",
   "execution_count": 5,
   "id": "648c635e-92d2-423d-bb72-3f159d7b505b",
   "metadata": {},
   "outputs": [],
   "source": [
    "subject_dirs = [name for name in os.listdir(dir_path) if os.path.isdir(os.path.join(dir_path, name))]"
   ]
  },
  {
   "cell_type": "code",
   "execution_count": 6,
   "id": "ab76e040-62c8-44e8-8b28-670d9af6c6d7",
   "metadata": {},
   "outputs": [
    {
     "data": {
      "text/plain": [
       "['f01',\n",
       " 'f02',\n",
       " 'f03',\n",
       " 'f04',\n",
       " 'f05',\n",
       " 'f06',\n",
       " 'f07',\n",
       " 'f08',\n",
       " 'f09',\n",
       " 'f10',\n",
       " 'f11',\n",
       " 'f12',\n",
       " 'f13',\n",
       " 'S01',\n",
       " 'S02',\n",
       " 'S03',\n",
       " 'S04',\n",
       " 'S05',\n",
       " 'S06',\n",
       " 'S07',\n",
       " 'S08',\n",
       " 'S09',\n",
       " 'S10',\n",
       " 'S11_a',\n",
       " 'S11_b',\n",
       " 'S13',\n",
       " 'S14',\n",
       " 'S15',\n",
       " 'S16',\n",
       " 'S17',\n",
       " 'S18']"
      ]
     },
     "execution_count": 6,
     "metadata": {},
     "output_type": "execute_result"
    }
   ],
   "source": [
    "subject_dirs"
   ]
  },
  {
   "cell_type": "code",
   "execution_count": 7,
   "id": "4965abc2-8bd3-48fb-9aac-e51105104a7e",
   "metadata": {},
   "outputs": [],
   "source": [
    "j = 0\n"
   ]
  },
  {
   "cell_type": "code",
   "execution_count": 8,
   "id": "dd90ee69-bf37-46d3-bbc5-6ccb5a6de64e",
   "metadata": {},
   "outputs": [
    {
     "data": {
      "text/plain": [
       "['ACC.csv', 'BVP.csv', 'EDA.csv', 'HR.csv', 'IBI.csv', 'tags.csv', 'TEMP.csv']"
      ]
     },
     "execution_count": 8,
     "metadata": {},
     "output_type": "execute_result"
    }
   ],
   "source": [
    "subject_dirs[j]\n",
    "os.listdir(os.path.join(dir_path, subject_dirs[j]))"
   ]
  },
  {
   "cell_type": "code",
   "execution_count": 9,
   "id": "fda5a168-644e-4bcd-8108-256a5b15a989",
   "metadata": {},
   "outputs": [],
   "source": [
    "import pandas as pd"
   ]
  },
  {
   "cell_type": "code",
   "execution_count": 10,
   "id": "52089e3c-e4c7-4dd1-a74d-cc5d832ac642",
   "metadata": {},
   "outputs": [],
   "source": [
    "BVP_path = os.path.join(dir_path, subject_dirs[j], \"BVP.csv\")\n",
    "EDA_path = os.path.join(dir_path, subject_dirs[j], \"EDA.csv\")\n",
    "TEMP_path = os.path.join(dir_path, subject_dirs[j], \"TEMP.csv\")"
   ]
  },
  {
   "cell_type": "code",
   "execution_count": 11,
   "id": "e71de3f4-1451-4c52-b935-501de8737643",
   "metadata": {},
   "outputs": [],
   "source": [
    "# Read the CSV file\n",
    "df_BVP = pd.read_csv(BVP_path, header=None)\n",
    "df_EDA = pd.read_csv(EDA_path, header=None)\n",
    "df_TEMP = pd.read_csv(TEMP_path, header=None)"
   ]
  },
  {
   "cell_type": "code",
   "execution_count": 12,
   "id": "690d87d0-e095-4d8d-b751-033e33e6b358",
   "metadata": {},
   "outputs": [
    {
     "name": "stdout",
     "output_type": "stream",
     "text": [
      "                     0\n",
      "0  2013-07-04 12:06:34\n",
      "1                 64.0\n",
      "2                 -0.0\n",
      "3                 -0.0\n",
      "4                 -0.0\n"
     ]
    }
   ],
   "source": [
    "# Display the first few rows\n",
    "print(df_BVP.head())"
   ]
  },
  {
   "cell_type": "code",
   "execution_count": 13,
   "id": "8da1da50-4476-46b3-93c5-6123bfee36a8",
   "metadata": {},
   "outputs": [
    {
     "data": {
      "text/html": [
       "<div>\n",
       "<style scoped>\n",
       "    .dataframe tbody tr th:only-of-type {\n",
       "        vertical-align: middle;\n",
       "    }\n",
       "\n",
       "    .dataframe tbody tr th {\n",
       "        vertical-align: top;\n",
       "    }\n",
       "\n",
       "    .dataframe thead th {\n",
       "        text-align: right;\n",
       "    }\n",
       "</style>\n",
       "<table border=\"1\" class=\"dataframe\">\n",
       "  <thead>\n",
       "    <tr style=\"text-align: right;\">\n",
       "      <th></th>\n",
       "      <th>0</th>\n",
       "    </tr>\n",
       "  </thead>\n",
       "  <tbody>\n",
       "    <tr>\n",
       "      <th>0</th>\n",
       "      <td>2013-07-04 12:06:34</td>\n",
       "    </tr>\n",
       "  </tbody>\n",
       "</table>\n",
       "</div>"
      ],
      "text/plain": [
       "                     0\n",
       "0  2013-07-04 12:06:34"
      ]
     },
     "execution_count": 13,
     "metadata": {},
     "output_type": "execute_result"
    }
   ],
   "source": [
    "df_BVP.iloc[[0]]"
   ]
  },
  {
   "cell_type": "code",
   "execution_count": 14,
   "id": "45e5c61e-cdef-42e1-abd4-fffb3104bbf3",
   "metadata": {},
   "outputs": [
    {
     "data": {
      "text/plain": [
       "(172702, 1)"
      ]
     },
     "execution_count": 14,
     "metadata": {},
     "output_type": "execute_result"
    }
   ],
   "source": [
    "df_BVP.shape"
   ]
  },
  {
   "cell_type": "code",
   "execution_count": 15,
   "id": "39a16eba-c381-481e-a23f-c11e6b6eac8c",
   "metadata": {},
   "outputs": [
    {
     "data": {
      "text/plain": [
       "'2013-07-04 12:06:34'"
      ]
     },
     "execution_count": 15,
     "metadata": {},
     "output_type": "execute_result"
    }
   ],
   "source": [
    "df_BVP.iloc[0,0]"
   ]
  },
  {
   "cell_type": "code",
   "execution_count": 16,
   "id": "79c5d318-0a76-4472-ada7-4354fb574870",
   "metadata": {},
   "outputs": [
    {
     "data": {
      "text/plain": [
       "'2013-07-04 12:06:34'"
      ]
     },
     "execution_count": 16,
     "metadata": {},
     "output_type": "execute_result"
    }
   ],
   "source": [
    "df_EDA.iloc[0,0]"
   ]
  },
  {
   "cell_type": "code",
   "execution_count": 17,
   "id": "622469fa-2331-43d4-8b17-4c04eb4a3e35",
   "metadata": {},
   "outputs": [
    {
     "data": {
      "text/plain": [
       "True"
      ]
     },
     "execution_count": 17,
     "metadata": {},
     "output_type": "execute_result"
    }
   ],
   "source": [
    "df_BVP.iloc[0,0] == df_EDA.iloc[0,0]"
   ]
  },
  {
   "cell_type": "code",
   "execution_count": 18,
   "id": "10c301db-a274-4b0c-b419-3e2c1aa429c0",
   "metadata": {},
   "outputs": [
    {
     "data": {
      "text/plain": [
       "True"
      ]
     },
     "execution_count": 18,
     "metadata": {},
     "output_type": "execute_result"
    }
   ],
   "source": [
    "df_BVP.iloc[0,0] == df_TEMP.iloc[0,0]"
   ]
  },
  {
   "cell_type": "code",
   "execution_count": 19,
   "id": "bbdd82cc-239d-4971-8e7b-d598207af686",
   "metadata": {},
   "outputs": [],
   "source": [
    "df_BVP = df_BVP.iloc[2:].reset_index(drop=True)\n",
    "df_EDA = df_EDA.iloc[2:].reset_index(drop=True)\n",
    "df_TEMP = df_TEMP.iloc[2:].reset_index(drop=True)"
   ]
  },
  {
   "cell_type": "code",
   "execution_count": 20,
   "id": "bcb2840a-54ee-4b83-a243-0afbfb2ff95b",
   "metadata": {},
   "outputs": [
    {
     "data": {
      "text/plain": [
       "(172700, 1)"
      ]
     },
     "execution_count": 20,
     "metadata": {},
     "output_type": "execute_result"
    }
   ],
   "source": [
    "df_BVP.shape"
   ]
  },
  {
   "cell_type": "code",
   "execution_count": 21,
   "id": "d8c7090e-763d-471d-a041-9b1be0c0fea1",
   "metadata": {},
   "outputs": [
    {
     "data": {
      "text/plain": [
       "(10794, 1)"
      ]
     },
     "execution_count": 21,
     "metadata": {},
     "output_type": "execute_result"
    }
   ],
   "source": [
    "df_EDA.shape"
   ]
  },
  {
   "cell_type": "code",
   "execution_count": 22,
   "id": "3d241ec1-599b-45dd-a504-1e11e0bda051",
   "metadata": {},
   "outputs": [
    {
     "data": {
      "text/plain": [
       "(10792, 1)"
      ]
     },
     "execution_count": 22,
     "metadata": {},
     "output_type": "execute_result"
    }
   ],
   "source": [
    "df_TEMP.shape"
   ]
  },
  {
   "cell_type": "code",
   "execution_count": 23,
   "id": "8fdf3081-1a8c-40e6-9304-77fd4268459e",
   "metadata": {},
   "outputs": [],
   "source": [
    "# downsample BVP to 32 hz\n",
    "df_BVP = df_BVP.iloc[::2].reset_index(drop=True)"
   ]
  },
  {
   "cell_type": "code",
   "execution_count": 24,
   "id": "1c54bb1d-44f2-4215-a2a5-6e8d2eea3631",
   "metadata": {},
   "outputs": [],
   "source": [
    "df_EDA = df_EDA.loc[df_EDA.index.repeat(8)].reset_index(drop=True)\n",
    "df_TEMP = df_TEMP.loc[df_TEMP.index.repeat(8)].reset_index(drop=True)"
   ]
  },
  {
   "cell_type": "code",
   "execution_count": 25,
   "id": "e9583299-a65d-4853-9862-d0f8450da61d",
   "metadata": {},
   "outputs": [],
   "source": [
    "# combine all three df into one data frame\n",
    "# Step 1: Find the minimum number of rows\n",
    "min_rows = min(len(df_BVP), len(df_EDA), len(df_TEMP))\n",
    "\n",
    "# Step 2: Cut each dataframe to the minimum number of rows\n",
    "df_BVP_cut = df_BVP.iloc[:min_rows].reset_index(drop=True)\n",
    "df_EDA_cut = df_EDA.iloc[:min_rows].reset_index(drop=True)\n",
    "df_TEMP_cut = df_TEMP.iloc[:min_rows].reset_index(drop=True)"
   ]
  },
  {
   "cell_type": "code",
   "execution_count": 26,
   "id": "7e620c74-528b-4f99-ba48-a519d708b2ef",
   "metadata": {},
   "outputs": [],
   "source": [
    "df= pd.concat([df_BVP_cut, df_EDA_cut, df_TEMP_cut], axis=1)"
   ]
  },
  {
   "cell_type": "code",
   "execution_count": 27,
   "id": "5903efdf-898d-4fdc-9c9f-563057b20109",
   "metadata": {},
   "outputs": [],
   "source": [
    "df.columns = ['BVP', 'EDA', 'TEMP']"
   ]
  },
  {
   "cell_type": "code",
   "execution_count": 28,
   "id": "f62c1e93-8462-4039-9cdc-ab9bd46b4c95",
   "metadata": {},
   "outputs": [
    {
     "data": {
      "text/html": [
       "<div>\n",
       "<style scoped>\n",
       "    .dataframe tbody tr th:only-of-type {\n",
       "        vertical-align: middle;\n",
       "    }\n",
       "\n",
       "    .dataframe tbody tr th {\n",
       "        vertical-align: top;\n",
       "    }\n",
       "\n",
       "    .dataframe thead th {\n",
       "        text-align: right;\n",
       "    }\n",
       "</style>\n",
       "<table border=\"1\" class=\"dataframe\">\n",
       "  <thead>\n",
       "    <tr style=\"text-align: right;\">\n",
       "      <th></th>\n",
       "      <th>BVP</th>\n",
       "      <th>EDA</th>\n",
       "      <th>TEMP</th>\n",
       "    </tr>\n",
       "  </thead>\n",
       "  <tbody>\n",
       "    <tr>\n",
       "      <th>0</th>\n",
       "      <td>-0.0</td>\n",
       "      <td>0.0</td>\n",
       "      <td>31.35</td>\n",
       "    </tr>\n",
       "    <tr>\n",
       "      <th>1</th>\n",
       "      <td>-0.0</td>\n",
       "      <td>0.0</td>\n",
       "      <td>31.35</td>\n",
       "    </tr>\n",
       "    <tr>\n",
       "      <th>2</th>\n",
       "      <td>-0.0</td>\n",
       "      <td>0.0</td>\n",
       "      <td>31.35</td>\n",
       "    </tr>\n",
       "    <tr>\n",
       "      <th>3</th>\n",
       "      <td>-0.0</td>\n",
       "      <td>0.0</td>\n",
       "      <td>31.35</td>\n",
       "    </tr>\n",
       "    <tr>\n",
       "      <th>4</th>\n",
       "      <td>-0.0</td>\n",
       "      <td>0.0</td>\n",
       "      <td>31.35</td>\n",
       "    </tr>\n",
       "    <tr>\n",
       "      <th>...</th>\n",
       "      <td>...</td>\n",
       "      <td>...</td>\n",
       "      <td>...</td>\n",
       "    </tr>\n",
       "    <tr>\n",
       "      <th>86331</th>\n",
       "      <td>-23.15</td>\n",
       "      <td>0.0</td>\n",
       "      <td>28.17</td>\n",
       "    </tr>\n",
       "    <tr>\n",
       "      <th>86332</th>\n",
       "      <td>-6.12</td>\n",
       "      <td>0.0</td>\n",
       "      <td>28.17</td>\n",
       "    </tr>\n",
       "    <tr>\n",
       "      <th>86333</th>\n",
       "      <td>2.65</td>\n",
       "      <td>0.0</td>\n",
       "      <td>28.17</td>\n",
       "    </tr>\n",
       "    <tr>\n",
       "      <th>86334</th>\n",
       "      <td>-1.08</td>\n",
       "      <td>0.0</td>\n",
       "      <td>28.17</td>\n",
       "    </tr>\n",
       "    <tr>\n",
       "      <th>86335</th>\n",
       "      <td>-4.07</td>\n",
       "      <td>0.0</td>\n",
       "      <td>28.17</td>\n",
       "    </tr>\n",
       "  </tbody>\n",
       "</table>\n",
       "<p>86336 rows × 3 columns</p>\n",
       "</div>"
      ],
      "text/plain": [
       "          BVP  EDA   TEMP\n",
       "0        -0.0  0.0  31.35\n",
       "1        -0.0  0.0  31.35\n",
       "2        -0.0  0.0  31.35\n",
       "3        -0.0  0.0  31.35\n",
       "4        -0.0  0.0  31.35\n",
       "...       ...  ...    ...\n",
       "86331  -23.15  0.0  28.17\n",
       "86332   -6.12  0.0  28.17\n",
       "86333    2.65  0.0  28.17\n",
       "86334   -1.08  0.0  28.17\n",
       "86335   -4.07  0.0  28.17\n",
       "\n",
       "[86336 rows x 3 columns]"
      ]
     },
     "execution_count": 28,
     "metadata": {},
     "output_type": "execute_result"
    }
   ],
   "source": [
    "df"
   ]
  },
  {
   "cell_type": "code",
   "execution_count": 29,
   "id": "3bf63680-8502-49ee-a7ea-912c83750f39",
   "metadata": {},
   "outputs": [
    {
     "data": {
      "text/plain": [
       "'f01'"
      ]
     },
     "execution_count": 29,
     "metadata": {},
     "output_type": "execute_result"
    }
   ],
   "source": [
    "subject_dirs[j]"
   ]
  },
  {
   "cell_type": "code",
   "execution_count": 30,
   "id": "945cb25b-9c3d-4b05-9535-bd3ab8524a9c",
   "metadata": {},
   "outputs": [],
   "source": [
    "df = df.reset_index().rename(columns={'index': 'time'})"
   ]
  },
  {
   "cell_type": "code",
   "execution_count": 31,
   "id": "be6445ed-8192-46f8-b36e-f60e17d9e352",
   "metadata": {},
   "outputs": [],
   "source": [
    "df['subject'] = subject_dirs[j]"
   ]
  },
  {
   "cell_type": "code",
   "execution_count": 32,
   "id": "73d20d71-5e69-455b-bd32-084ecb0b1643",
   "metadata": {},
   "outputs": [
    {
     "data": {
      "text/html": [
       "<div>\n",
       "<style scoped>\n",
       "    .dataframe tbody tr th:only-of-type {\n",
       "        vertical-align: middle;\n",
       "    }\n",
       "\n",
       "    .dataframe tbody tr th {\n",
       "        vertical-align: top;\n",
       "    }\n",
       "\n",
       "    .dataframe thead th {\n",
       "        text-align: right;\n",
       "    }\n",
       "</style>\n",
       "<table border=\"1\" class=\"dataframe\">\n",
       "  <thead>\n",
       "    <tr style=\"text-align: right;\">\n",
       "      <th></th>\n",
       "      <th>time</th>\n",
       "      <th>BVP</th>\n",
       "      <th>EDA</th>\n",
       "      <th>TEMP</th>\n",
       "      <th>subject</th>\n",
       "    </tr>\n",
       "  </thead>\n",
       "  <tbody>\n",
       "    <tr>\n",
       "      <th>0</th>\n",
       "      <td>0</td>\n",
       "      <td>-0.0</td>\n",
       "      <td>0.0</td>\n",
       "      <td>31.35</td>\n",
       "      <td>f01</td>\n",
       "    </tr>\n",
       "    <tr>\n",
       "      <th>1</th>\n",
       "      <td>1</td>\n",
       "      <td>-0.0</td>\n",
       "      <td>0.0</td>\n",
       "      <td>31.35</td>\n",
       "      <td>f01</td>\n",
       "    </tr>\n",
       "    <tr>\n",
       "      <th>2</th>\n",
       "      <td>2</td>\n",
       "      <td>-0.0</td>\n",
       "      <td>0.0</td>\n",
       "      <td>31.35</td>\n",
       "      <td>f01</td>\n",
       "    </tr>\n",
       "    <tr>\n",
       "      <th>3</th>\n",
       "      <td>3</td>\n",
       "      <td>-0.0</td>\n",
       "      <td>0.0</td>\n",
       "      <td>31.35</td>\n",
       "      <td>f01</td>\n",
       "    </tr>\n",
       "    <tr>\n",
       "      <th>4</th>\n",
       "      <td>4</td>\n",
       "      <td>-0.0</td>\n",
       "      <td>0.0</td>\n",
       "      <td>31.35</td>\n",
       "      <td>f01</td>\n",
       "    </tr>\n",
       "    <tr>\n",
       "      <th>...</th>\n",
       "      <td>...</td>\n",
       "      <td>...</td>\n",
       "      <td>...</td>\n",
       "      <td>...</td>\n",
       "      <td>...</td>\n",
       "    </tr>\n",
       "    <tr>\n",
       "      <th>86331</th>\n",
       "      <td>86331</td>\n",
       "      <td>-23.15</td>\n",
       "      <td>0.0</td>\n",
       "      <td>28.17</td>\n",
       "      <td>f01</td>\n",
       "    </tr>\n",
       "    <tr>\n",
       "      <th>86332</th>\n",
       "      <td>86332</td>\n",
       "      <td>-6.12</td>\n",
       "      <td>0.0</td>\n",
       "      <td>28.17</td>\n",
       "      <td>f01</td>\n",
       "    </tr>\n",
       "    <tr>\n",
       "      <th>86333</th>\n",
       "      <td>86333</td>\n",
       "      <td>2.65</td>\n",
       "      <td>0.0</td>\n",
       "      <td>28.17</td>\n",
       "      <td>f01</td>\n",
       "    </tr>\n",
       "    <tr>\n",
       "      <th>86334</th>\n",
       "      <td>86334</td>\n",
       "      <td>-1.08</td>\n",
       "      <td>0.0</td>\n",
       "      <td>28.17</td>\n",
       "      <td>f01</td>\n",
       "    </tr>\n",
       "    <tr>\n",
       "      <th>86335</th>\n",
       "      <td>86335</td>\n",
       "      <td>-4.07</td>\n",
       "      <td>0.0</td>\n",
       "      <td>28.17</td>\n",
       "      <td>f01</td>\n",
       "    </tr>\n",
       "  </tbody>\n",
       "</table>\n",
       "<p>86336 rows × 5 columns</p>\n",
       "</div>"
      ],
      "text/plain": [
       "        time     BVP  EDA   TEMP subject\n",
       "0          0    -0.0  0.0  31.35     f01\n",
       "1          1    -0.0  0.0  31.35     f01\n",
       "2          2    -0.0  0.0  31.35     f01\n",
       "3          3    -0.0  0.0  31.35     f01\n",
       "4          4    -0.0  0.0  31.35     f01\n",
       "...      ...     ...  ...    ...     ...\n",
       "86331  86331  -23.15  0.0  28.17     f01\n",
       "86332  86332   -6.12  0.0  28.17     f01\n",
       "86333  86333    2.65  0.0  28.17     f01\n",
       "86334  86334   -1.08  0.0  28.17     f01\n",
       "86335  86335   -4.07  0.0  28.17     f01\n",
       "\n",
       "[86336 rows x 5 columns]"
      ]
     },
     "execution_count": 32,
     "metadata": {},
     "output_type": "execute_result"
    }
   ],
   "source": [
    "df"
   ]
  },
  {
   "cell_type": "code",
   "execution_count": 34,
   "id": "92fadebe-6ea8-4a4d-a07a-da4e50422c2d",
   "metadata": {},
   "outputs": [],
   "source": [
    "# Parameters\n",
    "fs = 32              # Sampling frequency (Hz)\n",
    "chunk_duration = 4   # seconds\n",
    "overlap_duration = 1 # seconds\n",
    "\n",
    "chunk_size = chunk_duration * fs\n",
    "overlap_size = overlap_duration * fs\n",
    "step_size = chunk_size - overlap_size  # How many rows to move forward for each new chunk\n",
    "\n",
    "# Store all chunks\n",
    "chunks = []\n",
    "\n",
    "# Go through the DataFrame\n",
    "for start in range(0, len(df) - chunk_size + 1, step_size):\n",
    "    chunk = df.iloc[start : start + chunk_size].reset_index(drop=True)\n",
    "    chunks.append(chunk)\n",
    "\n",
    "# Now `chunks` is a list of DataFrames, each 128 rows, overlapping by 32 rows\n"
   ]
  },
  {
   "cell_type": "code",
   "execution_count": 38,
   "id": "4e57051c-6844-4125-9b3c-a4cb0d3236f4",
   "metadata": {},
   "outputs": [
    {
     "data": {
      "text/plain": [
       "899"
      ]
     },
     "execution_count": 38,
     "metadata": {},
     "output_type": "execute_result"
    }
   ],
   "source": [
    "len(chunks)"
   ]
  },
  {
   "cell_type": "code",
   "execution_count": null,
   "id": "f340d3b5-a9cb-428f-aaee-44345441c9a7",
   "metadata": {},
   "outputs": [],
   "source": []
  }
 ],
 "metadata": {
  "kernelspec": {
   "display_name": "Python 3 (ipykernel)",
   "language": "python",
   "name": "python3"
  },
  "language_info": {
   "codemirror_mode": {
    "name": "ipython",
    "version": 3
   },
   "file_extension": ".py",
   "mimetype": "text/x-python",
   "name": "python",
   "nbconvert_exporter": "python",
   "pygments_lexer": "ipython3",
   "version": "3.9.18"
  }
 },
 "nbformat": 4,
 "nbformat_minor": 5
}
