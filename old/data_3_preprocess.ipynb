{
 "cells": [
  {
   "cell_type": "code",
   "execution_count": 24,
   "id": "10c74c63-f021-40ac-9273-833f42881073",
   "metadata": {},
   "outputs": [],
   "source": [
    "import os\n",
    "import pandas as pd"
   ]
  },
  {
   "cell_type": "code",
   "execution_count": 33,
   "id": "8df26f8d-d9ea-4756-bfb9-9bf296ffadf3",
   "metadata": {},
   "outputs": [
    {
     "name": "stdout",
     "output_type": "stream",
     "text": [
      "S1\n",
      "S10\n",
      "S2\n",
      "S3\n",
      "S4\n",
      "S5\n",
      "S6\n",
      "S7\n",
      "S8\n",
      "S9\n"
     ]
    }
   ],
   "source": [
    "# Set the path to the target directory\n",
    "base_path = \"C:/Users/Ally/Desktop/sheng/data/3/Data\"\n",
    "\n",
    "# Get a list of all subdirectories in \"1\"\n",
    "subject_dirs = [name for name in os.listdir(base_path) if os.path.isdir(os.path.join(base_path, name))]\n",
    "\n",
    "# Print each subdirectory name\n",
    "for subdir in subject_dirs:\n",
    "    print(subdir)\n",
    "    \n",
    "chunks_all = []\n"
   ]
  },
  {
   "cell_type": "code",
   "execution_count": 34,
   "id": "8458c29a-4d5c-4ffa-b7db-e8d2a8aa4efa",
   "metadata": {},
   "outputs": [
    {
     "name": "stdout",
     "output_type": "stream",
     "text": [
      "C:/Users/Ally/Desktop/sheng/data/3/Data\\S1\\Final\\BVP.csv\n",
      "C:/Users/Ally/Desktop/sheng/data/3/Data\\S1\\Final\\EDA.csv\n",
      "C:/Users/Ally/Desktop/sheng/data/3/Data\\S1\\Final\\TEMP.csv\n",
      "C:/Users/Ally/Desktop/sheng/data/3/Data\\S1\\Midterm 1\\BVP.csv\n",
      "C:/Users/Ally/Desktop/sheng/data/3/Data\\S1\\Midterm 1\\EDA.csv\n",
      "C:/Users/Ally/Desktop/sheng/data/3/Data\\S1\\Midterm 1\\TEMP.csv\n",
      "C:/Users/Ally/Desktop/sheng/data/3/Data\\S1\\Midterm 2\\BVP.csv\n",
      "C:/Users/Ally/Desktop/sheng/data/3/Data\\S1\\Midterm 2\\EDA.csv\n",
      "C:/Users/Ally/Desktop/sheng/data/3/Data\\S1\\Midterm 2\\TEMP.csv\n",
      "C:/Users/Ally/Desktop/sheng/data/3/Data\\S10\\Final\\BVP.csv\n",
      "C:/Users/Ally/Desktop/sheng/data/3/Data\\S10\\Final\\EDA.csv\n",
      "C:/Users/Ally/Desktop/sheng/data/3/Data\\S10\\Final\\TEMP.csv\n",
      "C:/Users/Ally/Desktop/sheng/data/3/Data\\S10\\Midterm 1\\BVP.csv\n",
      "C:/Users/Ally/Desktop/sheng/data/3/Data\\S10\\Midterm 1\\EDA.csv\n",
      "C:/Users/Ally/Desktop/sheng/data/3/Data\\S10\\Midterm 1\\TEMP.csv\n",
      "C:/Users/Ally/Desktop/sheng/data/3/Data\\S10\\Midterm 2\\BVP.csv\n",
      "C:/Users/Ally/Desktop/sheng/data/3/Data\\S10\\Midterm 2\\EDA.csv\n",
      "C:/Users/Ally/Desktop/sheng/data/3/Data\\S10\\Midterm 2\\TEMP.csv\n",
      "C:/Users/Ally/Desktop/sheng/data/3/Data\\S2\\Final\\BVP.csv\n",
      "C:/Users/Ally/Desktop/sheng/data/3/Data\\S2\\Final\\EDA.csv\n",
      "C:/Users/Ally/Desktop/sheng/data/3/Data\\S2\\Final\\TEMP.csv\n",
      "C:/Users/Ally/Desktop/sheng/data/3/Data\\S2\\Midterm 1\\BVP.csv\n",
      "C:/Users/Ally/Desktop/sheng/data/3/Data\\S2\\Midterm 1\\EDA.csv\n",
      "C:/Users/Ally/Desktop/sheng/data/3/Data\\S2\\Midterm 1\\TEMP.csv\n",
      "C:/Users/Ally/Desktop/sheng/data/3/Data\\S2\\Midterm 2\\BVP.csv\n",
      "C:/Users/Ally/Desktop/sheng/data/3/Data\\S2\\Midterm 2\\EDA.csv\n",
      "C:/Users/Ally/Desktop/sheng/data/3/Data\\S2\\Midterm 2\\TEMP.csv\n",
      "C:/Users/Ally/Desktop/sheng/data/3/Data\\S3\\Final\\BVP.csv\n",
      "C:/Users/Ally/Desktop/sheng/data/3/Data\\S3\\Final\\EDA.csv\n",
      "C:/Users/Ally/Desktop/sheng/data/3/Data\\S3\\Final\\TEMP.csv\n",
      "C:/Users/Ally/Desktop/sheng/data/3/Data\\S3\\Midterm 1\\BVP.csv\n",
      "C:/Users/Ally/Desktop/sheng/data/3/Data\\S3\\Midterm 1\\EDA.csv\n",
      "C:/Users/Ally/Desktop/sheng/data/3/Data\\S3\\Midterm 1\\TEMP.csv\n",
      "C:/Users/Ally/Desktop/sheng/data/3/Data\\S3\\Midterm 2\\BVP.csv\n",
      "C:/Users/Ally/Desktop/sheng/data/3/Data\\S3\\Midterm 2\\EDA.csv\n",
      "C:/Users/Ally/Desktop/sheng/data/3/Data\\S3\\Midterm 2\\TEMP.csv\n",
      "C:/Users/Ally/Desktop/sheng/data/3/Data\\S4\\Final\\BVP.csv\n",
      "C:/Users/Ally/Desktop/sheng/data/3/Data\\S4\\Final\\EDA.csv\n",
      "C:/Users/Ally/Desktop/sheng/data/3/Data\\S4\\Final\\TEMP.csv\n",
      "C:/Users/Ally/Desktop/sheng/data/3/Data\\S4\\Midterm 1\\BVP.csv\n",
      "C:/Users/Ally/Desktop/sheng/data/3/Data\\S4\\Midterm 1\\EDA.csv\n",
      "C:/Users/Ally/Desktop/sheng/data/3/Data\\S4\\Midterm 1\\TEMP.csv\n",
      "C:/Users/Ally/Desktop/sheng/data/3/Data\\S4\\Midterm 2\\BVP.csv\n",
      "C:/Users/Ally/Desktop/sheng/data/3/Data\\S4\\Midterm 2\\EDA.csv\n",
      "C:/Users/Ally/Desktop/sheng/data/3/Data\\S4\\Midterm 2\\TEMP.csv\n",
      "C:/Users/Ally/Desktop/sheng/data/3/Data\\S5\\Final\\BVP.csv\n",
      "C:/Users/Ally/Desktop/sheng/data/3/Data\\S5\\Final\\EDA.csv\n",
      "C:/Users/Ally/Desktop/sheng/data/3/Data\\S5\\Final\\TEMP.csv\n",
      "C:/Users/Ally/Desktop/sheng/data/3/Data\\S5\\Midterm 1\\BVP.csv\n",
      "C:/Users/Ally/Desktop/sheng/data/3/Data\\S5\\Midterm 1\\EDA.csv\n",
      "C:/Users/Ally/Desktop/sheng/data/3/Data\\S5\\Midterm 1\\TEMP.csv\n",
      "C:/Users/Ally/Desktop/sheng/data/3/Data\\S5\\Midterm 2\\BVP.csv\n",
      "C:/Users/Ally/Desktop/sheng/data/3/Data\\S5\\Midterm 2\\EDA.csv\n",
      "C:/Users/Ally/Desktop/sheng/data/3/Data\\S5\\Midterm 2\\TEMP.csv\n",
      "C:/Users/Ally/Desktop/sheng/data/3/Data\\S6\\Final\\BVP.csv\n",
      "C:/Users/Ally/Desktop/sheng/data/3/Data\\S6\\Final\\EDA.csv\n",
      "C:/Users/Ally/Desktop/sheng/data/3/Data\\S6\\Final\\TEMP.csv\n",
      "C:/Users/Ally/Desktop/sheng/data/3/Data\\S6\\Midterm 1\\BVP.csv\n",
      "C:/Users/Ally/Desktop/sheng/data/3/Data\\S6\\Midterm 1\\EDA.csv\n",
      "C:/Users/Ally/Desktop/sheng/data/3/Data\\S6\\Midterm 1\\TEMP.csv\n",
      "C:/Users/Ally/Desktop/sheng/data/3/Data\\S6\\Midterm 2\\BVP.csv\n",
      "C:/Users/Ally/Desktop/sheng/data/3/Data\\S6\\Midterm 2\\EDA.csv\n",
      "C:/Users/Ally/Desktop/sheng/data/3/Data\\S6\\Midterm 2\\TEMP.csv\n",
      "C:/Users/Ally/Desktop/sheng/data/3/Data\\S7\\Final\\BVP.csv\n",
      "C:/Users/Ally/Desktop/sheng/data/3/Data\\S7\\Final\\EDA.csv\n",
      "C:/Users/Ally/Desktop/sheng/data/3/Data\\S7\\Final\\TEMP.csv\n",
      "C:/Users/Ally/Desktop/sheng/data/3/Data\\S7\\Midterm 1\\BVP.csv\n",
      "C:/Users/Ally/Desktop/sheng/data/3/Data\\S7\\Midterm 1\\EDA.csv\n",
      "C:/Users/Ally/Desktop/sheng/data/3/Data\\S7\\Midterm 1\\TEMP.csv\n",
      "C:/Users/Ally/Desktop/sheng/data/3/Data\\S7\\Midterm 2\\BVP.csv\n",
      "C:/Users/Ally/Desktop/sheng/data/3/Data\\S7\\Midterm 2\\EDA.csv\n",
      "C:/Users/Ally/Desktop/sheng/data/3/Data\\S7\\Midterm 2\\TEMP.csv\n",
      "C:/Users/Ally/Desktop/sheng/data/3/Data\\S8\\Final\\BVP.csv\n",
      "C:/Users/Ally/Desktop/sheng/data/3/Data\\S8\\Final\\EDA.csv\n",
      "C:/Users/Ally/Desktop/sheng/data/3/Data\\S8\\Final\\TEMP.csv\n",
      "C:/Users/Ally/Desktop/sheng/data/3/Data\\S8\\Midterm 1\\BVP.csv\n",
      "C:/Users/Ally/Desktop/sheng/data/3/Data\\S8\\Midterm 1\\EDA.csv\n",
      "C:/Users/Ally/Desktop/sheng/data/3/Data\\S8\\Midterm 1\\TEMP.csv\n",
      "C:/Users/Ally/Desktop/sheng/data/3/Data\\S8\\Midterm 2\\BVP.csv\n",
      "C:/Users/Ally/Desktop/sheng/data/3/Data\\S8\\Midterm 2\\EDA.csv\n",
      "C:/Users/Ally/Desktop/sheng/data/3/Data\\S8\\Midterm 2\\TEMP.csv\n",
      "C:/Users/Ally/Desktop/sheng/data/3/Data\\S9\\Final\\BVP.csv\n",
      "C:/Users/Ally/Desktop/sheng/data/3/Data\\S9\\Final\\EDA.csv\n",
      "C:/Users/Ally/Desktop/sheng/data/3/Data\\S9\\Final\\TEMP.csv\n",
      "C:/Users/Ally/Desktop/sheng/data/3/Data\\S9\\Midterm 1\\BVP.csv\n",
      "C:/Users/Ally/Desktop/sheng/data/3/Data\\S9\\Midterm 1\\EDA.csv\n",
      "C:/Users/Ally/Desktop/sheng/data/3/Data\\S9\\Midterm 1\\TEMP.csv\n",
      "C:/Users/Ally/Desktop/sheng/data/3/Data\\S9\\Midterm 2\\BVP.csv\n",
      "C:/Users/Ally/Desktop/sheng/data/3/Data\\S9\\Midterm 2\\EDA.csv\n",
      "C:/Users/Ally/Desktop/sheng/data/3/Data\\S9\\Midterm 2\\TEMP.csv\n"
     ]
    }
   ],
   "source": [
    "for j in range(len(subject_dirs)):\n",
    "    subject_dirs[j]\n",
    "    \n",
    "    term_dirs = os.listdir(os.path.join(base_path, subject_dirs[j]))\n",
    "    for k in range(len(term_dirs)):\n",
    "\n",
    "        BVP_path = os.path.join(base_path, subject_dirs[j], term_dirs[k], \"BVP.csv\")\n",
    "        EDA_path = os.path.join(base_path, subject_dirs[j], term_dirs[k], \"EDA.csv\")\n",
    "        TEMP_path = os.path.join(base_path, subject_dirs[j], term_dirs[k], \"TEMP.csv\")\n",
    "\n",
    "        # Read the CSV file\n",
    "        df_BVP = pd.read_csv(BVP_path, header=None)\n",
    "        df_EDA = pd.read_csv(EDA_path, header=None)\n",
    "        df_TEMP = pd.read_csv(TEMP_path, header=None)\n",
    "\n",
    "        '''\n",
    "        if df_BVP.iloc[0,0] == df_EDA.iloc[0,0] and df_BVP.iloc[0,0] == df_TEMP.iloc[0,0]:\n",
    "            print(1)\n",
    "        else:\n",
    "            print(0)\n",
    "        '''\n",
    "        \n",
    "        df_BVP = df_BVP.iloc[2:].reset_index(drop=True)\n",
    "        df_EDA = df_EDA.iloc[2:].reset_index(drop=True)\n",
    "        df_TEMP = df_TEMP.iloc[2:].reset_index(drop=True)\n",
    "\n",
    "        # downsample BVP to 32 hz\n",
    "        df_BVP = df_BVP.iloc[::2].reset_index(drop=True)\n",
    "        df_EDA = df_EDA.loc[df_EDA.index.repeat(8)].reset_index(drop=True)\n",
    "        df_TEMP = df_TEMP.loc[df_TEMP.index.repeat(8)].reset_index(drop=True)\n",
    "\n",
    "        # combine all three df into one data frame\n",
    "        # Step 1: Find the minimum number of rows\n",
    "        min_rows = min(len(df_BVP), len(df_EDA), len(df_TEMP))\n",
    "\n",
    "        # Step 2: Cut each dataframe to the minimum number of rows\n",
    "        df_BVP_cut = df_BVP.iloc[:min_rows].reset_index(drop=True)\n",
    "        df_EDA_cut = df_EDA.iloc[:min_rows].reset_index(drop=True)\n",
    "        df_TEMP_cut = df_TEMP.iloc[:min_rows].reset_index(drop=True)\n",
    "\n",
    "        # Step 3: combine columns\n",
    "        df= pd.concat([df_BVP_cut, df_EDA_cut, df_TEMP_cut], axis=1)\n",
    "    \n",
    "        # assign column names\n",
    "        df.columns = ['BVP', 'EDA', 'TEMP']\n",
    "\n",
    "        # set index as a column named \"time\"\n",
    "        df = df.reset_index().rename(columns={'index': 'time'})\n",
    "        df['subject'] = subject_dirs[j]\n",
    "\n",
    "        # chunk df into chunks of 4 seconds with 1 second overlap\n",
    "        # Parameters\n",
    "        fs = 32              # Sampling frequency (Hz)\n",
    "        chunk_duration = 4   # seconds\n",
    "        overlap_duration = 1 # seconds\n",
    "\n",
    "        chunk_size = chunk_duration * fs\n",
    "        overlap_size = overlap_duration * fs\n",
    "        step_size = chunk_size - overlap_size  # How many rows to move forward for each new chunk\n",
    "\n",
    "        # Store all chunks\n",
    "        chunks = []\n",
    "\n",
    "        # Go through the DataFrame\n",
    "        for start in range(0, len(df) - chunk_size + 1, step_size):\n",
    "            chunk = df.iloc[start : start + chunk_size].reset_index(drop=True)\n",
    "            chunks.append(chunk)\n",
    "\n",
    "        # Now `chunks` is a list of DataFrames, each 128 rows, overlapping by 32 rows\n",
    "\n",
    "        chunks_all.append(chunks)\n",
    "\n"
   ]
  },
  {
   "cell_type": "code",
   "execution_count": 35,
   "id": "c66e0947-041e-49fa-84ef-5efca74758d8",
   "metadata": {},
   "outputs": [
    {
     "data": {
      "text/plain": [
       "30"
      ]
     },
     "execution_count": 35,
     "metadata": {},
     "output_type": "execute_result"
    }
   ],
   "source": [
    "len(chunks_all)"
   ]
  },
  {
   "cell_type": "code",
   "execution_count": 55,
   "id": "d76f2168-9b0d-40eb-948b-3689860f4f75",
   "metadata": {},
   "outputs": [],
   "source": [
    "for i, chunk in enumerate(chunks_all):\n",
    "    pd.concat(chunk, axis = 0).reset_index(drop = True).to_csv(f'chunk_{i}.csv', index = False)"
   ]
  },
  {
   "cell_type": "code",
   "execution_count": 50,
   "id": "71680fe6-9471-4e5f-a4b4-674a9fb49270",
   "metadata": {},
   "outputs": [
    {
     "name": "stdout",
     "output_type": "stream",
     "text": [
      "0 998144\n",
      "1 476800\n",
      "2 475008\n",
      "3 984320\n",
      "4 498560\n",
      "5 554240\n",
      "6 1080960\n",
      "7 511232\n",
      "8 592256\n",
      "9 1101568\n",
      "10 520960\n",
      "11 436992\n",
      "12 678656\n",
      "13 498816\n",
      "14 571264\n",
      "15 650240\n",
      "16 511872\n",
      "17 512640\n",
      "18 1020288\n",
      "19 475776\n",
      "20 605312\n",
      "21 838272\n",
      "22 528256\n",
      "23 461312\n",
      "24 763520\n",
      "25 459904\n",
      "26 424832\n",
      "27 606080\n",
      "28 540928\n",
      "29 530304\n"
     ]
    }
   ],
   "source": [
    "for i, chunk in enumerate(chunks_all):\n",
    "    cnt = 0\n",
    "    for j, c in enumerate(chunk):\n",
    "        cnt = cnt + c.shape[0]\n",
    "    print(i, cnt)"
   ]
  },
  {
   "cell_type": "code",
   "execution_count": 40,
   "id": "772e43aa-2555-4390-98d3-3037b2bb8a0e",
   "metadata": {},
   "outputs": [
    {
     "data": {
      "text/plain": [
       "2794.0"
      ]
     },
     "execution_count": 40,
     "metadata": {},
     "output_type": "execute_result"
    }
   ],
   "source": [
    "357632/128"
   ]
  },
  {
   "cell_type": "code",
   "execution_count": null,
   "id": "17ec0921-c6d2-48aa-b198-6f8324938805",
   "metadata": {},
   "outputs": [],
   "source": []
  }
 ],
 "metadata": {
  "kernelspec": {
   "display_name": "Python 3 (ipykernel)",
   "language": "python",
   "name": "python3"
  },
  "language_info": {
   "codemirror_mode": {
    "name": "ipython",
    "version": 3
   },
   "file_extension": ".py",
   "mimetype": "text/x-python",
   "name": "python",
   "nbconvert_exporter": "python",
   "pygments_lexer": "ipython3",
   "version": "3.9.18"
  }
 },
 "nbformat": 4,
 "nbformat_minor": 5
}
